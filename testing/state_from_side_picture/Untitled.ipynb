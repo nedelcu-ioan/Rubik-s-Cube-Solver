{
 "cells": [
  {
   "cell_type": "code",
   "execution_count": 1,
   "id": "93f44d7d-568e-4c0f-8930-0eadd2a0264d",
   "metadata": {},
   "outputs": [],
   "source": [
    "\"\"\"\n",
    "Computing the average for a color\n",
    "\"\"\"\n",
    "def get_avg(data):\n",
    "    return list(map(lambda x: sum(x)/len(x), zip(*data)))"
   ]
  },
  {
   "cell_type": "code",
   "execution_count": 6,
   "id": "092e9e3b-8508-4fb6-99ab-bacf558ad2d3",
   "metadata": {},
   "outputs": [
    {
     "data": {
      "text/plain": [
       "[103.82122222222223, 254.6348888888889, 237.01533333333333, 0.0]"
      ]
     },
     "execution_count": 6,
     "metadata": {},
     "output_type": "execute_result"
    }
   ],
   "source": [
    "#blue\n",
    "get_avg([[103.032, 253.868, 239.552, 0], [103.017, 254.451, 237.581, 0], [103.483, 254.671, 236.412, 0], [103.252, 254.69, 238.147, 0], [103.906, 254.814, 236.455, 0], [104.008, 254.831, 236.078, 0], [103.645, 254.719, 238.755, 0], [104.042, 254.991, 235.549, 0], [106.006, 254.679, 234.609, 0]])"
   ]
  },
  {
   "cell_type": "code",
   "execution_count": 9,
   "id": "de8983c1-0b06-4146-9007-b83d46db97cf",
   "metadata": {},
   "outputs": [
    {
     "data": {
      "text/plain": [
       "[78.68033333333334, 254.65977777777778, 196.2613333333333, 0.0]"
      ]
     },
     "execution_count": 9,
     "metadata": {},
     "output_type": "execute_result"
    }
   ],
   "source": [
    "#green\n",
    "get_avg([[79.0303, 254.847, 227.373, 0], [79, 254.956, 226.398, 0], [79.0686, 254.557, 199.867, 0], [79.0089, 254.747, 225.12, 0], [77.9878, 254.522, 205.936, 0], [78.0155, 254.659, 165.736, 0], [79.9184, 254.425, 200.948, 0], [78.0361, 254.347, 162.042, 0], [78.0574, 254.878, 152.932, 0]])"
   ]
  },
  {
   "cell_type": "code",
   "execution_count": 11,
   "id": "4793f8bd-8fb6-405c-8ee8-5e610f5a7c58",
   "metadata": {},
   "outputs": [
    {
     "data": {
      "text/plain": [
       "[4.253168888888889, 171.7713333333333, 250.2893333333333, 0.0]"
      ]
     },
     "execution_count": 11,
     "metadata": {},
     "output_type": "execute_result"
    }
   ],
   "source": [
    "#orange\n",
    "get_avg([[3.99479, 159.918, 254.391, 0], [4.00825, 167.498, 252.219, 0], [4.02517, 168.076, 251.58, 0], [3.99338, 163.61, 251.666, 0], [5, 177.849, 250.728, 0], [4.85156, 181.253, 247.389, 0], [3.85069, 162.405, 251.078, 0], [4.98296, 175.928, 249.536, 0], [3.57172, 189.405, 244.017, 0]])"
   ]
  },
  {
   "cell_type": "code",
   "execution_count": 12,
   "id": "77a267c4-4598-4e33-8585-519ae060524a",
   "metadata": {},
   "outputs": [
    {
     "data": {
      "text/plain": [
       "[175.38255555555554, 190.29855555555554, 173.24533333333332, 0.0]"
      ]
     },
     "execution_count": 12,
     "metadata": {},
     "output_type": "execute_result"
    }
   ],
   "source": [
    "#red\n",
    "get_avg([[177.456, 184.184, 186.908, 0], [178.022, 183.567, 186.406, 0], [178.025, 185.914, 184.246, 0], [177.677, 182.167, 188.478, 0], [178.293, 189.801, 183.493, 0], [156.4, 202.47, 159.482, 0], [177, 178.427, 184.165, 0], [177.051, 196.461, 162.382, 0], [178.519, 209.696, 123.648, 0]])"
   ]
  },
  {
   "cell_type": "code",
   "execution_count": 15,
   "id": "76a3a958-966d-46d5-a156-ab87b1db674e",
   "metadata": {},
   "outputs": [
    {
     "data": {
      "text/plain": [
       "[30.969644444444448, 4.580559666666667, 222.66044444444444, 0.0]"
      ]
     },
     "execution_count": 15,
     "metadata": {},
     "output_type": "execute_result"
    }
   ],
   "source": [
    "#white\n",
    "get_avg([[34.916, 4.21354, 236.208, 0], [37.3173, 5.11328, 234.237, 0], [35.3841, 5.1531, 230.22, 0], [36.179, 5.14019, 235.684, 0], [11.0617, 0.519097, 228.543, 0], [36.0149, 6.12988, 220.518, 0], [36.323, 4.9949, 236.169, 0], [32.8123, 4.66786, 213.502, 0], [18.7185, 5.29319, 168.863, 0]])"
   ]
  },
  {
   "cell_type": "code",
   "execution_count": 17,
   "id": "8a66bab1-ce45-4557-9ca5-0cedabe81dc5",
   "metadata": {},
   "outputs": [
    {
     "data": {
      "text/plain": [
       "[45.80347777777777, 159.54211111111113, 228.0294444444445, 0.0]"
      ]
     },
     "execution_count": 17,
     "metadata": {},
     "output_type": "execute_result"
    }
   ],
   "source": [
    "#yellow\n",
    "get_avg([[45.0004, 154.222, 251.966, 0], [45.8229, 159.433, 245.486, 0], [46.4574, 151.703, 218.215, 0], [45.6126, 156.737, 250.825, 0], [45.9826, 164.109, 230.757, 0], [46.0141, 160.859, 208.824, 0], [46.3258, 157.572, 238.17, 0], [46.0007, 165.046, 208.592, 0], [45.0148, 166.198, 199.43, 0]])"
   ]
  },
  {
   "cell_type": "code",
   "execution_count": null,
   "id": "5ad5e088-31f5-4497-8ded-d381f3a8cc07",
   "metadata": {},
   "outputs": [],
   "source": []
  }
 ],
 "metadata": {
  "kernelspec": {
   "display_name": "Python 3 (ipykernel)",
   "language": "python",
   "name": "python3"
  },
  "language_info": {
   "codemirror_mode": {
    "name": "ipython",
    "version": 3
   },
   "file_extension": ".py",
   "mimetype": "text/x-python",
   "name": "python",
   "nbconvert_exporter": "python",
   "pygments_lexer": "ipython3",
   "version": "3.11.2"
  }
 },
 "nbformat": 4,
 "nbformat_minor": 5
}
